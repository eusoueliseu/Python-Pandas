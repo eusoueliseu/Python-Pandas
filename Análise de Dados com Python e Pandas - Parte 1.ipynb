{
 "cells": [
  {
   "cell_type": "markdown",
   "id": "ffee4f33",
   "metadata": {},
   "source": [
    "## Funções"
   ]
  },
  {
   "cell_type": "code",
   "execution_count": 111,
   "id": "7e7f9b5f",
   "metadata": {},
   "outputs": [
    {
     "data": {
      "text/plain": [
       "19"
      ]
     },
     "execution_count": 111,
     "metadata": {},
     "output_type": "execute_result"
    }
   ],
   "source": [
    "#Como contar caracteres:\n",
    "len('quantos caracteres?')"
   ]
  },
  {
   "cell_type": "code",
   "execution_count": 112,
   "id": "9b6f7023",
   "metadata": {},
   "outputs": [],
   "source": [
    "#Função para transformar celcius em farenheint\n",
    "def celc_far (temperatura):\n",
    "    temp = (temperatura * 1.8) + 32\n",
    "    return temp"
   ]
  },
  {
   "cell_type": "code",
   "execution_count": 113,
   "id": "88ec4976",
   "metadata": {},
   "outputs": [
    {
     "data": {
      "text/plain": [
       "66.2"
      ]
     },
     "execution_count": 113,
     "metadata": {},
     "output_type": "execute_result"
    }
   ],
   "source": [
    "#Calculando temp farenheint:\n",
    "celc_far(19)"
   ]
  },
  {
   "cell_type": "markdown",
   "id": "352b77f2",
   "metadata": {},
   "source": [
    "## Listas"
   ]
  },
  {
   "cell_type": "code",
   "execution_count": 114,
   "id": "a5578fba",
   "metadata": {},
   "outputs": [],
   "source": [
    "#Listas\n",
    "presidentes_pos_ditadura = ['Tancredo','Sarney', 'Collor', 'Itamar', 'FHC', 'Lula', 'Dilma', 'Temer', 'Bolsonaro']\n",
    "\n",
    "#Para inserir novos itens a lista atual\n",
    "presidentes_pos_ditadura.append('Próximo(a)')\n",
    "\n",
    "#O comando insere itens ao fim da lista"
   ]
  },
  {
   "cell_type": "code",
   "execution_count": 115,
   "id": "3c081567",
   "metadata": {},
   "outputs": [],
   "source": [
    "#Como Tancredo nunca assumiu o cargo, vamos removê-lo da lista\n",
    "presidentes_pos_ditadura.remove('Tancredo')"
   ]
  },
  {
   "cell_type": "code",
   "execution_count": 116,
   "id": "d026bbca",
   "metadata": {},
   "outputs": [
    {
     "data": {
      "text/plain": [
       "True"
      ]
     },
     "execution_count": 116,
     "metadata": {},
     "output_type": "execute_result"
    }
   ],
   "source": [
    "#Para descobrir se determinado presidente pertence a lista, basta:\n",
    "\n",
    "'Collor' in presidentes_pos_ditadura\n",
    "\n",
    "#O valor retornado informa se o valor procurado pertence a lista"
   ]
  },
  {
   "cell_type": "markdown",
   "id": "0dec5873",
   "metadata": {},
   "source": [
    "## Índices e Slicing de listas"
   ]
  },
  {
   "cell_type": "code",
   "execution_count": 117,
   "id": "725264c9",
   "metadata": {},
   "outputs": [
    {
     "data": {
      "text/plain": [
       "'B'"
      ]
     },
     "execution_count": 117,
     "metadata": {},
     "output_type": "execute_result"
    }
   ],
   "source": [
    "#Os índices indicam a posição de determinados objetos numa lista.\n",
    "#Os índices no Python começam em 0 (primeiro item)\n",
    "\n",
    "batman = 'Batman'\n",
    "batman[0] #Mostra a primeira letra da variável\n",
    "\n",
    "#0 1 2 3 4 5\n",
    "#B a t m a n"
   ]
  },
  {
   "cell_type": "code",
   "execution_count": 118,
   "id": "b1ba8c58",
   "metadata": {},
   "outputs": [
    {
     "data": {
      "text/plain": [
       "'n'"
      ]
     },
     "execution_count": 118,
     "metadata": {},
     "output_type": "execute_result"
    }
   ],
   "source": [
    "#Para indicar a última letra, podemos mostrar o índice contando de trás para frente:\n",
    "batman [-1]"
   ]
  },
  {
   "cell_type": "code",
   "execution_count": 119,
   "id": "11b9c17f",
   "metadata": {},
   "outputs": [
    {
     "data": {
      "text/plain": [
       "'Limão'"
      ]
     },
     "execution_count": 119,
     "metadata": {},
     "output_type": "execute_result"
    }
   ],
   "source": [
    "#Índices em Listas:\n",
    "\n",
    "frutas_vit_c= ['Limão', 'Acerola', 'Laranja', 'Maracunjá', 'Tangerina']\n",
    "\n",
    "frutas_vit_c[0] #Indica a primeira fruta da lista"
   ]
  },
  {
   "cell_type": "code",
   "execution_count": 120,
   "id": "11996585",
   "metadata": {},
   "outputs": [
    {
     "data": {
      "text/plain": [
       "['Sarney', 'Collor', 'Itamar']"
      ]
     },
     "execution_count": 120,
     "metadata": {},
     "output_type": "execute_result"
    }
   ],
   "source": [
    "#E se quisermos extrair mais de um item da lista?\n",
    "\n",
    "presidentes_pos_ditadura [0:3] #Mostra os itens desde o início da lista até a terceira posição\n",
    "\n",
    "#O número 3 indica a quarta posição, porém esse índice será excluído do slice"
   ]
  },
  {
   "cell_type": "code",
   "execution_count": 121,
   "id": "779c655b",
   "metadata": {},
   "outputs": [
    {
     "data": {
      "text/plain": [
       "['Sarney', 'Collor', 'Itamar']"
      ]
     },
     "execution_count": 121,
     "metadata": {},
     "output_type": "execute_result"
    }
   ],
   "source": [
    "#Se omitirmos o primeiro índice, a lista será mostrada a partir do início da lista até a posição informada\n",
    "presidentes_pos_ditadura[:3]"
   ]
  },
  {
   "cell_type": "code",
   "execution_count": 122,
   "id": "15e44568",
   "metadata": {},
   "outputs": [
    {
     "data": {
      "text/plain": [
       "['FHC', 'Lula', 'Dilma', 'Temer', 'Bolsonaro', 'Próximo(a)']"
      ]
     },
     "execution_count": 122,
     "metadata": {},
     "output_type": "execute_result"
    }
   ],
   "source": [
    "#Se omitirmos o último índice, a lista será apresentada desde o primeiro índice até o fim da lista\n",
    "presidentes_pos_ditadura[3:]"
   ]
  },
  {
   "cell_type": "code",
   "execution_count": 123,
   "id": "010084ce",
   "metadata": {},
   "outputs": [
    {
     "data": {
      "text/plain": [
       "['Sarney',\n",
       " 'Collor',\n",
       " 'Itamar',\n",
       " 'FHC',\n",
       " 'Lula',\n",
       " 'Dilma',\n",
       " 'Temer',\n",
       " 'Bolsonaro',\n",
       " 'Próximo(a)']"
      ]
     },
     "execution_count": 123,
     "metadata": {},
     "output_type": "execute_result"
    }
   ],
   "source": [
    "#Ao omitir ambos os índices, a lista será mostrada do início ao fim\n",
    "presidentes_pos_ditadura[:]"
   ]
  },
  {
   "cell_type": "markdown",
   "id": "9e11927e",
   "metadata": {},
   "source": [
    "## Dicionários"
   ]
  },
  {
   "cell_type": "code",
   "execution_count": 124,
   "id": "23bf47cd",
   "metadata": {},
   "outputs": [],
   "source": [
    "#Os dicionários são similares as listas, porém podemos ter índices literais\n",
    "\n",
    "filme0 = {'nome': 'Matrix', 'genero': 'Ação', 'ano' : '1999'}"
   ]
  },
  {
   "cell_type": "code",
   "execution_count": 125,
   "id": "8acdda2e",
   "metadata": {
    "scrolled": true
   },
   "outputs": [
    {
     "name": "stdout",
     "output_type": "stream",
     "text": [
      "{'nome': 'Matrix', 'genero': 'Ação', 'ano': '1999'}\n"
     ]
    }
   ],
   "source": [
    "print(filme0) #Este comando traz exatamente o que foi inserido no dicionário"
   ]
  },
  {
   "cell_type": "code",
   "execution_count": 126,
   "id": "da015e63",
   "metadata": {},
   "outputs": [
    {
     "name": "stdout",
     "output_type": "stream",
     "text": [
      "O filme Matrix é de Ação e foi lançado em 1999.\n"
     ]
    }
   ],
   "source": [
    "#Vamos fazer um print formatado com esse dicionário\n",
    "print(f'O filme {filme0[\"nome\"]} é de {filme0[\"genero\"]} e foi lançado em {filme0[\"ano\"]}.')"
   ]
  },
  {
   "cell_type": "code",
   "execution_count": 127,
   "id": "4f017351",
   "metadata": {
    "scrolled": true
   },
   "outputs": [
    {
     "name": "stdout",
     "output_type": "stream",
     "text": [
      "dict_keys(['nome', 'genero', 'ano'])\n",
      "dict_items([('nome', 'Matrix'), ('genero', 'Ação'), ('ano', '1999')])\n",
      "dict_values(['Matrix', 'Ação', '1999'])\n"
     ]
    }
   ],
   "source": [
    "#Também podemos mostrar apenas os itens, chaves ou valores desse dicionário\n",
    "print(filme0.keys())\n",
    "print(filme0.items())\n",
    "print(filme0.values())"
   ]
  },
  {
   "cell_type": "markdown",
   "id": "a24dd6a9",
   "metadata": {},
   "source": [
    "##### Vamos trabalhar com listas e dicionários"
   ]
  },
  {
   "cell_type": "code",
   "execution_count": 128,
   "id": "0b774cc8",
   "metadata": {},
   "outputs": [],
   "source": [
    "#Vamos criar uma lista de filmes e incluir itens além de Matrix\n",
    "\n",
    "lista_filmes = [] #Primeiro criaremos uma lista vazia\n",
    "\n",
    "#Vamos criar alguns dicionários de filmes\n",
    "filme1 = {'nome': 'Exterminador', 'genero': 'Ação', 'ano' : '1984'}\n",
    "filme2 = {'nome': 'Rocky Balboa', 'genero': 'Luta/Drama', 'ano' : '1976'}\n",
    "filme3 = {'nome': 'Poderoso Chefão', 'genero': 'Máfia', 'ano' : '1972'}\n",
    "filme4 = {'nome': 'Star Wars', 'genero': 'Ação', 'ano' : '1977'}\n"
   ]
  },
  {
   "cell_type": "code",
   "execution_count": 129,
   "id": "eb8c51a1",
   "metadata": {},
   "outputs": [],
   "source": [
    "#Agora iremos preencher a lista de filmes com os itens que acabamos de criar e Matrix, que já haviamos criado\n",
    "lista_filmes.append(filme0)\n",
    "lista_filmes.append(filme1)\n",
    "lista_filmes.append(filme2)\n",
    "lista_filmes.append(filme3)\n",
    "lista_filmes.append(filme4)"
   ]
  },
  {
   "cell_type": "code",
   "execution_count": 130,
   "id": "0db6bc0b",
   "metadata": {
    "scrolled": true
   },
   "outputs": [
    {
     "name": "stdout",
     "output_type": "stream",
     "text": [
      "[{'nome': 'Matrix', 'genero': 'Ação', 'ano': '1999'}, {'nome': 'Exterminador', 'genero': 'Ação', 'ano': '1984'}, {'nome': 'Rocky Balboa', 'genero': 'Luta/Drama', 'ano': '1976'}, {'nome': 'Poderoso Chefão', 'genero': 'Máfia', 'ano': '1972'}, {'nome': 'Star Wars', 'genero': 'Ação', 'ano': '1977'}]\n"
     ]
    }
   ],
   "source": [
    "#Agora temos todos os filmes numa lista\n",
    "print(lista_filmes)"
   ]
  },
  {
   "cell_type": "code",
   "execution_count": 131,
   "id": "e1f52e4e",
   "metadata": {},
   "outputs": [
    {
     "name": "stdout",
     "output_type": "stream",
     "text": [
      "{'nome': 'Matrix', 'genero': 'Ação', 'ano': '1999'}\n"
     ]
    }
   ],
   "source": [
    "#Agora podemos acessar esses filmes através dos comandos de lista já usados anteriormente\n",
    "\n",
    "print(lista_filmes[0])"
   ]
  },
  {
   "cell_type": "code",
   "execution_count": 132,
   "id": "e80386dd",
   "metadata": {},
   "outputs": [],
   "source": [
    "#Bom, mas como eu transformo essa biblioteca num Data Frame do Pandas?\n",
    "\n",
    "lista_filmes = pd.DataFrame(lista_filmes)\n",
    "\n",
    "#Agora nossa lista passou a ser um Data Frame"
   ]
  },
  {
   "cell_type": "code",
   "execution_count": 133,
   "id": "8700a577",
   "metadata": {},
   "outputs": [
    {
     "data": {
      "text/plain": [
       "0             Matrix\n",
       "1       Exterminador\n",
       "2       Rocky Balboa\n",
       "3    Poderoso Chefão\n",
       "4          Star Wars\n",
       "Name: nome, dtype: object"
      ]
     },
     "metadata": {},
     "output_type": "display_data"
    }
   ],
   "source": [
    "#E se eu quiser ver apenas o nome dos filmes?\n",
    "\n",
    "nome_filme = lista_filmes['nome']\n",
    "display(nome_filme)"
   ]
  },
  {
   "cell_type": "code",
   "execution_count": 134,
   "id": "f1d7466e",
   "metadata": {},
   "outputs": [
    {
     "data": {
      "text/html": [
       "<div>\n",
       "<style scoped>\n",
       "    .dataframe tbody tr th:only-of-type {\n",
       "        vertical-align: middle;\n",
       "    }\n",
       "\n",
       "    .dataframe tbody tr th {\n",
       "        vertical-align: top;\n",
       "    }\n",
       "\n",
       "    .dataframe thead th {\n",
       "        text-align: right;\n",
       "    }\n",
       "</style>\n",
       "<table border=\"1\" class=\"dataframe\">\n",
       "  <thead>\n",
       "    <tr style=\"text-align: right;\">\n",
       "      <th></th>\n",
       "      <th>nome</th>\n",
       "      <th>ano</th>\n",
       "    </tr>\n",
       "  </thead>\n",
       "  <tbody>\n",
       "    <tr>\n",
       "      <th>0</th>\n",
       "      <td>Matrix</td>\n",
       "      <td>1999</td>\n",
       "    </tr>\n",
       "    <tr>\n",
       "      <th>1</th>\n",
       "      <td>Exterminador</td>\n",
       "      <td>1984</td>\n",
       "    </tr>\n",
       "    <tr>\n",
       "      <th>2</th>\n",
       "      <td>Rocky Balboa</td>\n",
       "      <td>1976</td>\n",
       "    </tr>\n",
       "    <tr>\n",
       "      <th>3</th>\n",
       "      <td>Poderoso Chefão</td>\n",
       "      <td>1972</td>\n",
       "    </tr>\n",
       "    <tr>\n",
       "      <th>4</th>\n",
       "      <td>Star Wars</td>\n",
       "      <td>1977</td>\n",
       "    </tr>\n",
       "  </tbody>\n",
       "</table>\n",
       "</div>"
      ],
      "text/plain": [
       "              nome   ano\n",
       "0           Matrix  1999\n",
       "1     Exterminador  1984\n",
       "2     Rocky Balboa  1976\n",
       "3  Poderoso Chefão  1972\n",
       "4        Star Wars  1977"
      ]
     },
     "metadata": {},
     "output_type": "display_data"
    }
   ],
   "source": [
    "#Agora queremos verificar o nome e ano de lançamento dos filmes\n",
    "\n",
    "nome_filme = lista_filmes[['nome', 'ano']]\n",
    "display(nome_filme)"
   ]
  },
  {
   "cell_type": "code",
   "execution_count": 135,
   "id": "3b38fc7f",
   "metadata": {},
   "outputs": [
    {
     "data": {
      "text/html": [
       "<div>\n",
       "<style scoped>\n",
       "    .dataframe tbody tr th:only-of-type {\n",
       "        vertical-align: middle;\n",
       "    }\n",
       "\n",
       "    .dataframe tbody tr th {\n",
       "        vertical-align: top;\n",
       "    }\n",
       "\n",
       "    .dataframe thead th {\n",
       "        text-align: right;\n",
       "    }\n",
       "</style>\n",
       "<table border=\"1\" class=\"dataframe\">\n",
       "  <thead>\n",
       "    <tr style=\"text-align: right;\">\n",
       "      <th></th>\n",
       "      <th>nome</th>\n",
       "      <th>genero</th>\n",
       "      <th>ano</th>\n",
       "    </tr>\n",
       "  </thead>\n",
       "  <tbody>\n",
       "    <tr>\n",
       "      <th>1</th>\n",
       "      <td>Exterminador</td>\n",
       "      <td>Ação</td>\n",
       "      <td>1984</td>\n",
       "    </tr>\n",
       "    <tr>\n",
       "      <th>2</th>\n",
       "      <td>Rocky Balboa</td>\n",
       "      <td>Luta/Drama</td>\n",
       "      <td>1976</td>\n",
       "    </tr>\n",
       "  </tbody>\n",
       "</table>\n",
       "</div>"
      ],
      "text/plain": [
       "           nome      genero   ano\n",
       "1  Exterminador        Ação  1984\n",
       "2  Rocky Balboa  Luta/Drama  1976"
      ]
     },
     "execution_count": 135,
     "metadata": {},
     "output_type": "execute_result"
    }
   ],
   "source": [
    "#Para mostrar infos de uma ou mais linhas do data frame\n",
    "\n",
    "lista_filmes.loc[1:2]"
   ]
  },
  {
   "cell_type": "code",
   "execution_count": 144,
   "id": "dba853fd",
   "metadata": {},
   "outputs": [
    {
     "data": {
      "text/html": [
       "<div>\n",
       "<style scoped>\n",
       "    .dataframe tbody tr th:only-of-type {\n",
       "        vertical-align: middle;\n",
       "    }\n",
       "\n",
       "    .dataframe tbody tr th {\n",
       "        vertical-align: top;\n",
       "    }\n",
       "\n",
       "    .dataframe thead th {\n",
       "        text-align: right;\n",
       "    }\n",
       "</style>\n",
       "<table border=\"1\" class=\"dataframe\">\n",
       "  <thead>\n",
       "    <tr style=\"text-align: right;\">\n",
       "      <th></th>\n",
       "      <th>Código Venda</th>\n",
       "      <th>Data</th>\n",
       "      <th>ID Loja</th>\n",
       "      <th>Produto</th>\n",
       "      <th>Quantidade</th>\n",
       "      <th>Valor Unitário</th>\n",
       "      <th>Valor Final</th>\n",
       "    </tr>\n",
       "  </thead>\n",
       "  <tbody>\n",
       "    <tr>\n",
       "      <th>0</th>\n",
       "      <td>1</td>\n",
       "      <td>2019-01-01</td>\n",
       "      <td>Iguatemi Esplanada</td>\n",
       "      <td>Sapato Estampa</td>\n",
       "      <td>1</td>\n",
       "      <td>358</td>\n",
       "      <td>358</td>\n",
       "    </tr>\n",
       "    <tr>\n",
       "      <th>1</th>\n",
       "      <td>1</td>\n",
       "      <td>2019-01-01</td>\n",
       "      <td>Iguatemi Esplanada</td>\n",
       "      <td>Camiseta</td>\n",
       "      <td>2</td>\n",
       "      <td>180</td>\n",
       "      <td>360</td>\n",
       "    </tr>\n",
       "    <tr>\n",
       "      <th>2</th>\n",
       "      <td>1</td>\n",
       "      <td>2019-01-01</td>\n",
       "      <td>Iguatemi Esplanada</td>\n",
       "      <td>Sapato Xadrez</td>\n",
       "      <td>1</td>\n",
       "      <td>368</td>\n",
       "      <td>368</td>\n",
       "    </tr>\n",
       "    <tr>\n",
       "      <th>3</th>\n",
       "      <td>2</td>\n",
       "      <td>2019-01-02</td>\n",
       "      <td>Norte Shopping</td>\n",
       "      <td>Relógio</td>\n",
       "      <td>3</td>\n",
       "      <td>200</td>\n",
       "      <td>600</td>\n",
       "    </tr>\n",
       "    <tr>\n",
       "      <th>4</th>\n",
       "      <td>2</td>\n",
       "      <td>2019-01-02</td>\n",
       "      <td>Norte Shopping</td>\n",
       "      <td>Chinelo Liso</td>\n",
       "      <td>1</td>\n",
       "      <td>71</td>\n",
       "      <td>71</td>\n",
       "    </tr>\n",
       "    <tr>\n",
       "      <th>...</th>\n",
       "      <td>...</td>\n",
       "      <td>...</td>\n",
       "      <td>...</td>\n",
       "      <td>...</td>\n",
       "      <td>...</td>\n",
       "      <td>...</td>\n",
       "      <td>...</td>\n",
       "    </tr>\n",
       "    <tr>\n",
       "      <th>93905</th>\n",
       "      <td>65012</td>\n",
       "      <td>2019-11-30</td>\n",
       "      <td>Shopping Vila Velha</td>\n",
       "      <td>Mochila Xadrez</td>\n",
       "      <td>2</td>\n",
       "      <td>283</td>\n",
       "      <td>566</td>\n",
       "    </tr>\n",
       "    <tr>\n",
       "      <th>93906</th>\n",
       "      <td>65013</td>\n",
       "      <td>2019-11-30</td>\n",
       "      <td>Ribeirão Shopping</td>\n",
       "      <td>Pulseira Listrado</td>\n",
       "      <td>2</td>\n",
       "      <td>79</td>\n",
       "      <td>158</td>\n",
       "    </tr>\n",
       "    <tr>\n",
       "      <th>93907</th>\n",
       "      <td>65013</td>\n",
       "      <td>2019-11-30</td>\n",
       "      <td>Ribeirão Shopping</td>\n",
       "      <td>Cueca Listrado</td>\n",
       "      <td>3</td>\n",
       "      <td>67</td>\n",
       "      <td>201</td>\n",
       "    </tr>\n",
       "    <tr>\n",
       "      <th>93908</th>\n",
       "      <td>65014</td>\n",
       "      <td>2019-11-30</td>\n",
       "      <td>Shopping Morumbi</td>\n",
       "      <td>Pulseira Linho</td>\n",
       "      <td>5</td>\n",
       "      <td>114</td>\n",
       "      <td>570</td>\n",
       "    </tr>\n",
       "    <tr>\n",
       "      <th>93909</th>\n",
       "      <td>65014</td>\n",
       "      <td>2019-11-30</td>\n",
       "      <td>Shopping Morumbi</td>\n",
       "      <td>Casaco Xadrez</td>\n",
       "      <td>4</td>\n",
       "      <td>259</td>\n",
       "      <td>1036</td>\n",
       "    </tr>\n",
       "  </tbody>\n",
       "</table>\n",
       "<p>93910 rows × 7 columns</p>\n",
       "</div>"
      ],
      "text/plain": [
       "       Código Venda       Data              ID Loja            Produto  \\\n",
       "0                 1 2019-01-01   Iguatemi Esplanada     Sapato Estampa   \n",
       "1                 1 2019-01-01   Iguatemi Esplanada           Camiseta   \n",
       "2                 1 2019-01-01   Iguatemi Esplanada      Sapato Xadrez   \n",
       "3                 2 2019-01-02       Norte Shopping            Relógio   \n",
       "4                 2 2019-01-02       Norte Shopping       Chinelo Liso   \n",
       "...             ...        ...                  ...                ...   \n",
       "93905         65012 2019-11-30  Shopping Vila Velha     Mochila Xadrez   \n",
       "93906         65013 2019-11-30    Ribeirão Shopping  Pulseira Listrado   \n",
       "93907         65013 2019-11-30    Ribeirão Shopping     Cueca Listrado   \n",
       "93908         65014 2019-11-30     Shopping Morumbi     Pulseira Linho   \n",
       "93909         65014 2019-11-30     Shopping Morumbi      Casaco Xadrez   \n",
       "\n",
       "       Quantidade  Valor Unitário  Valor Final  \n",
       "0               1             358          358  \n",
       "1               2             180          360  \n",
       "2               1             368          368  \n",
       "3               3             200          600  \n",
       "4               1              71           71  \n",
       "...           ...             ...          ...  \n",
       "93905           2             283          566  \n",
       "93906           2              79          158  \n",
       "93907           3              67          201  \n",
       "93908           5             114          570  \n",
       "93909           4             259         1036  \n",
       "\n",
       "[93910 rows x 7 columns]"
      ]
     },
     "metadata": {},
     "output_type": "display_data"
    }
   ],
   "source": [
    "#O método loc é versátil e pode ser usado para consultas mais complexas.\n",
    "#Para isso, vamos abrir um arquivo com diversas infos de produtos/vendas\n",
    "\n",
    "tabela = pd.DataFrame(pd.read_excel(\"Vendas.xlsx\"))\n",
    "display(tabela)"
   ]
  },
  {
   "cell_type": "markdown",
   "id": "9c267740",
   "metadata": {},
   "source": [
    "#### Por enquanto é só. Vamos voltar a trabalhar com pandas nos próximos notebooks"
   ]
  }
 ],
 "metadata": {
  "kernelspec": {
   "display_name": "Python 3",
   "language": "python",
   "name": "python3"
  },
  "language_info": {
   "codemirror_mode": {
    "name": "ipython",
    "version": 3
   },
   "file_extension": ".py",
   "mimetype": "text/x-python",
   "name": "python",
   "nbconvert_exporter": "python",
   "pygments_lexer": "ipython3",
   "version": "3.8.8"
  }
 },
 "nbformat": 4,
 "nbformat_minor": 5
}

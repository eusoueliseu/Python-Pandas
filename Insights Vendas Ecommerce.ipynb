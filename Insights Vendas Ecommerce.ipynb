{
 "cells": [
  {
   "cell_type": "markdown",
   "id": "2e4aecd8",
   "metadata": {},
   "source": [
    "## Análise de Vendas\n",
    "#### Vamos tirar alguns insights dos dados\n",
    "\n",
    "Para essa análise temos 12 planilhas com histórico de vendas de um ecommerce.\n",
    "\n",
    "Vamos tirar algumas ideias valiosas desses dados."
   ]
  },
  {
   "cell_type": "code",
   "execution_count": 87,
   "id": "d3e87528",
   "metadata": {},
   "outputs": [],
   "source": [
    "import pandas as pd\n",
    "import matplotlib.pyplot as plt\n",
    "import os"
   ]
  },
  {
   "cell_type": "markdown",
   "id": "76783435",
   "metadata": {},
   "source": [
    "Vamos começar compilando nossos 12 arquivos de vendas em apenas um Data Frame"
   ]
  },
  {
   "cell_type": "code",
   "execution_count": 88,
   "id": "327d37b3",
   "metadata": {},
   "outputs": [
    {
     "data": {
      "text/plain": [
       "['.ipynb_checkpoints',\n",
       " 'Projeto Análise de Vendas - Python & Pandas.ipynb',\n",
       " 'Sales_April_2019.csv',\n",
       " 'Sales_August_2019.csv',\n",
       " 'Sales_December_2019.csv',\n",
       " 'Sales_February_2019.csv',\n",
       " 'Sales_January_2019.csv',\n",
       " 'Sales_July_2019.csv',\n",
       " 'Sales_June_2019.csv',\n",
       " 'Sales_March_2019.csv',\n",
       " 'Sales_May_2019.csv',\n",
       " 'Sales_November_2019.csv',\n",
       " 'Sales_October_2019.csv',\n",
       " 'Sales_September_2019.csv']"
      ]
     },
     "execution_count": 88,
     "metadata": {},
     "output_type": "execute_result"
    }
   ],
   "source": [
    "os.listdir() #Vamos usar a lista de arquivos da pasta para compilar os arquivos no data frame"
   ]
  },
  {
   "cell_type": "code",
   "execution_count": 89,
   "id": "3cc3b9e3",
   "metadata": {},
   "outputs": [],
   "source": [
    "vendas = pd.DataFrame() #Criamos um datafram vazio\n",
    "vendas = pd.concat(\n",
    "    map(pd.read_csv, [\n",
    " 'Sales_January_2019.csv',        \n",
    " 'Sales_February_2019.csv', \n",
    " 'Sales_March_2019.csv',\n",
    " 'Sales_April_2019.csv',\n",
    " 'Sales_May_2019.csv',\n",
    " 'Sales_June_2019.csv',       \n",
    " 'Sales_July_2019.csv',        \n",
    " 'Sales_August_2019.csv',\n",
    " 'Sales_September_2019.csv',        \n",
    " 'Sales_October_2019.csv',        \n",
    " 'Sales_November_2019.csv',        \n",
    " 'Sales_December_2019.csv'\n",
    "]), ignore_index = True) #Compilamos os dados de vendas ao dataframe"
   ]
  },
  {
   "cell_type": "code",
   "execution_count": 90,
   "id": "216d6f32",
   "metadata": {},
   "outputs": [
    {
     "data": {
      "text/html": [
       "<div>\n",
       "<style scoped>\n",
       "    .dataframe tbody tr th:only-of-type {\n",
       "        vertical-align: middle;\n",
       "    }\n",
       "\n",
       "    .dataframe tbody tr th {\n",
       "        vertical-align: top;\n",
       "    }\n",
       "\n",
       "    .dataframe thead th {\n",
       "        text-align: right;\n",
       "    }\n",
       "</style>\n",
       "<table border=\"1\" class=\"dataframe\">\n",
       "  <thead>\n",
       "    <tr style=\"text-align: right;\">\n",
       "      <th></th>\n",
       "      <th>Order ID</th>\n",
       "      <th>Product</th>\n",
       "      <th>Quantity Ordered</th>\n",
       "      <th>Price Each</th>\n",
       "      <th>Order Date</th>\n",
       "      <th>Purchase Address</th>\n",
       "    </tr>\n",
       "  </thead>\n",
       "  <tbody>\n",
       "    <tr>\n",
       "      <th>0</th>\n",
       "      <td>141234</td>\n",
       "      <td>iPhone</td>\n",
       "      <td>1</td>\n",
       "      <td>700</td>\n",
       "      <td>01/22/19 21:25</td>\n",
       "      <td>944 Walnut St, Boston, MA 02215</td>\n",
       "    </tr>\n",
       "    <tr>\n",
       "      <th>1</th>\n",
       "      <td>141235</td>\n",
       "      <td>Lightning Charging Cable</td>\n",
       "      <td>1</td>\n",
       "      <td>14.95</td>\n",
       "      <td>01/28/19 14:15</td>\n",
       "      <td>185 Maple St, Portland, OR 97035</td>\n",
       "    </tr>\n",
       "    <tr>\n",
       "      <th>2</th>\n",
       "      <td>141236</td>\n",
       "      <td>Wired Headphones</td>\n",
       "      <td>2</td>\n",
       "      <td>11.99</td>\n",
       "      <td>01/17/19 13:33</td>\n",
       "      <td>538 Adams St, San Francisco, CA 94016</td>\n",
       "    </tr>\n",
       "    <tr>\n",
       "      <th>3</th>\n",
       "      <td>141237</td>\n",
       "      <td>27in FHD Monitor</td>\n",
       "      <td>1</td>\n",
       "      <td>149.99</td>\n",
       "      <td>01/05/19 20:33</td>\n",
       "      <td>738 10th St, Los Angeles, CA 90001</td>\n",
       "    </tr>\n",
       "    <tr>\n",
       "      <th>4</th>\n",
       "      <td>141238</td>\n",
       "      <td>Wired Headphones</td>\n",
       "      <td>1</td>\n",
       "      <td>11.99</td>\n",
       "      <td>01/25/19 11:59</td>\n",
       "      <td>387 10th St, Austin, TX 73301</td>\n",
       "    </tr>\n",
       "    <tr>\n",
       "      <th>...</th>\n",
       "      <td>...</td>\n",
       "      <td>...</td>\n",
       "      <td>...</td>\n",
       "      <td>...</td>\n",
       "      <td>...</td>\n",
       "      <td>...</td>\n",
       "    </tr>\n",
       "    <tr>\n",
       "      <th>186845</th>\n",
       "      <td>319666</td>\n",
       "      <td>Lightning Charging Cable</td>\n",
       "      <td>1</td>\n",
       "      <td>14.95</td>\n",
       "      <td>12/11/19 20:58</td>\n",
       "      <td>14 Madison St, San Francisco, CA 94016</td>\n",
       "    </tr>\n",
       "    <tr>\n",
       "      <th>186846</th>\n",
       "      <td>319667</td>\n",
       "      <td>AA Batteries (4-pack)</td>\n",
       "      <td>2</td>\n",
       "      <td>3.84</td>\n",
       "      <td>12/01/19 12:01</td>\n",
       "      <td>549 Willow St, Los Angeles, CA 90001</td>\n",
       "    </tr>\n",
       "    <tr>\n",
       "      <th>186847</th>\n",
       "      <td>319668</td>\n",
       "      <td>Vareebadd Phone</td>\n",
       "      <td>1</td>\n",
       "      <td>400</td>\n",
       "      <td>12/09/19 06:43</td>\n",
       "      <td>273 Wilson St, Seattle, WA 98101</td>\n",
       "    </tr>\n",
       "    <tr>\n",
       "      <th>186848</th>\n",
       "      <td>319669</td>\n",
       "      <td>Wired Headphones</td>\n",
       "      <td>1</td>\n",
       "      <td>11.99</td>\n",
       "      <td>12/03/19 10:39</td>\n",
       "      <td>778 River St, Dallas, TX 75001</td>\n",
       "    </tr>\n",
       "    <tr>\n",
       "      <th>186849</th>\n",
       "      <td>319670</td>\n",
       "      <td>Bose SoundSport Headphones</td>\n",
       "      <td>1</td>\n",
       "      <td>99.99</td>\n",
       "      <td>12/21/19 21:45</td>\n",
       "      <td>747 Chestnut St, Los Angeles, CA 90001</td>\n",
       "    </tr>\n",
       "  </tbody>\n",
       "</table>\n",
       "<p>186850 rows × 6 columns</p>\n",
       "</div>"
      ],
      "text/plain": [
       "       Order ID                     Product Quantity Ordered Price Each  \\\n",
       "0        141234                      iPhone                1        700   \n",
       "1        141235    Lightning Charging Cable                1      14.95   \n",
       "2        141236            Wired Headphones                2      11.99   \n",
       "3        141237            27in FHD Monitor                1     149.99   \n",
       "4        141238            Wired Headphones                1      11.99   \n",
       "...         ...                         ...              ...        ...   \n",
       "186845   319666    Lightning Charging Cable                1      14.95   \n",
       "186846   319667       AA Batteries (4-pack)                2       3.84   \n",
       "186847   319668             Vareebadd Phone                1        400   \n",
       "186848   319669            Wired Headphones                1      11.99   \n",
       "186849   319670  Bose SoundSport Headphones                1      99.99   \n",
       "\n",
       "            Order Date                        Purchase Address  \n",
       "0       01/22/19 21:25         944 Walnut St, Boston, MA 02215  \n",
       "1       01/28/19 14:15        185 Maple St, Portland, OR 97035  \n",
       "2       01/17/19 13:33   538 Adams St, San Francisco, CA 94016  \n",
       "3       01/05/19 20:33      738 10th St, Los Angeles, CA 90001  \n",
       "4       01/25/19 11:59           387 10th St, Austin, TX 73301  \n",
       "...                ...                                     ...  \n",
       "186845  12/11/19 20:58  14 Madison St, San Francisco, CA 94016  \n",
       "186846  12/01/19 12:01    549 Willow St, Los Angeles, CA 90001  \n",
       "186847  12/09/19 06:43        273 Wilson St, Seattle, WA 98101  \n",
       "186848  12/03/19 10:39          778 River St, Dallas, TX 75001  \n",
       "186849  12/21/19 21:45  747 Chestnut St, Los Angeles, CA 90001  \n",
       "\n",
       "[186850 rows x 6 columns]"
      ]
     },
     "metadata": {},
     "output_type": "display_data"
    }
   ],
   "source": [
    "#Vamos dar uma olhadinha nos dados:\n",
    "display(vendas)"
   ]
  },
  {
   "cell_type": "markdown",
   "id": "30b40151",
   "metadata": {},
   "source": [
    "### Para nossa análise, vamos responder algumas perguntas de negócio:\n",
    "\n",
    "#### Primeiro vamos limpar, organizar e dar uma carinha nova ao DataFrame"
   ]
  },
  {
   "cell_type": "code",
   "execution_count": 91,
   "id": "e32ea7ee",
   "metadata": {},
   "outputs": [
    {
     "name": "stdout",
     "output_type": "stream",
     "text": [
      "<class 'pandas.core.frame.DataFrame'>\n",
      "RangeIndex: 186850 entries, 0 to 186849\n",
      "Data columns (total 6 columns):\n",
      " #   Column            Non-Null Count   Dtype \n",
      "---  ------            --------------   ----- \n",
      " 0   Order ID          186305 non-null  object\n",
      " 1   Product           186305 non-null  object\n",
      " 2   Quantity Ordered  186305 non-null  object\n",
      " 3   Price Each        186305 non-null  object\n",
      " 4   Order Date        186305 non-null  object\n",
      " 5   Purchase Address  186305 non-null  object\n",
      "dtypes: object(6)\n",
      "memory usage: 8.6+ MB\n"
     ]
    }
   ],
   "source": [
    "#Vamos começar padronizando os dados\n",
    "\n",
    "vendas.info() #Todas as colunas estão cadastradas como string, mas precisamos melhorar isso"
   ]
  },
  {
   "cell_type": "code",
   "execution_count": 92,
   "id": "7e56d2d5",
   "metadata": {},
   "outputs": [],
   "source": [
    "#Vamos trocar o índice da planilha para constar o Order ID\n",
    "vendas = vendas.set_index('Order ID')\n",
    "\n",
    "#Vamos remover alguns dados errados do Data Frame\n",
    "vendas.drop(vendas[vendas['Price Each'] == 'Price Each'].index, inplace = True)\n",
    "\n",
    "#Vamos criar uma coluna para identificar os meses\n",
    "\n",
    "vendas['Mês'] = vendas['Order Date'].str[:2]\n",
    "vendas['Mês'] = vendas['Mês'].astype('category') #Mudamos o mês para categoria\n",
    "vendas['Product'] = vendas['Product'].astype('category') #Como há poucos produtos, mudamos para categoria\n",
    "\n",
    "vendas['Quantity Ordered'] = vendas['Quantity Ordered'].astype('float') #Este é um campo interessante para cálculo então mudamos para float\n",
    "vendas['Price Each'] = vendas['Price Each'].astype('float') #Mesma coisa para o campo de vendas unitárias\n"
   ]
  },
  {
   "cell_type": "markdown",
   "id": "d60cbe57",
   "metadata": {},
   "source": [
    "### Agora vamos começar a explorar as questões de negócio\n",
    "### 1. Qual o mês com maior faturamento?"
   ]
  },
  {
   "cell_type": "code",
   "execution_count": 93,
   "id": "401e9cb5",
   "metadata": {},
   "outputs": [],
   "source": [
    "#Alguns itens foram comprados em mais de uma unidade, então precisamos multiplicar a quant de peças pelo preço unit\n",
    "\n",
    "vendas['Total produto'] = vendas['Quantity Ordered'] * vendas['Price Each']"
   ]
  },
  {
   "cell_type": "code",
   "execution_count": 94,
   "id": "d0350135",
   "metadata": {},
   "outputs": [
    {
     "data": {
      "text/html": [
       "<div>\n",
       "<style scoped>\n",
       "    .dataframe tbody tr th:only-of-type {\n",
       "        vertical-align: middle;\n",
       "    }\n",
       "\n",
       "    .dataframe tbody tr th {\n",
       "        vertical-align: top;\n",
       "    }\n",
       "\n",
       "    .dataframe thead th {\n",
       "        text-align: right;\n",
       "    }\n",
       "</style>\n",
       "<table border=\"1\" class=\"dataframe\">\n",
       "  <thead>\n",
       "    <tr style=\"text-align: right;\">\n",
       "      <th></th>\n",
       "      <th>Quantity Ordered</th>\n",
       "      <th>Price Each</th>\n",
       "      <th>Total produto</th>\n",
       "    </tr>\n",
       "    <tr>\n",
       "      <th>Mês</th>\n",
       "      <th></th>\n",
       "      <th></th>\n",
       "      <th></th>\n",
       "    </tr>\n",
       "  </thead>\n",
       "  <tbody>\n",
       "    <tr>\n",
       "      <th>12</th>\n",
       "      <td>28114.0</td>\n",
       "      <td>4.588415e+06</td>\n",
       "      <td>4.613443e+06</td>\n",
       "    </tr>\n",
       "    <tr>\n",
       "      <th>10</th>\n",
       "      <td>22703.0</td>\n",
       "      <td>3.715555e+06</td>\n",
       "      <td>3.736727e+06</td>\n",
       "    </tr>\n",
       "    <tr>\n",
       "      <th>04</th>\n",
       "      <td>20558.0</td>\n",
       "      <td>3.367671e+06</td>\n",
       "      <td>3.390670e+06</td>\n",
       "    </tr>\n",
       "    <tr>\n",
       "      <th>11</th>\n",
       "      <td>19798.0</td>\n",
       "      <td>3.180601e+06</td>\n",
       "      <td>3.199603e+06</td>\n",
       "    </tr>\n",
       "    <tr>\n",
       "      <th>05</th>\n",
       "      <td>18667.0</td>\n",
       "      <td>3.135125e+06</td>\n",
       "      <td>3.152607e+06</td>\n",
       "    </tr>\n",
       "    <tr>\n",
       "      <th>03</th>\n",
       "      <td>17005.0</td>\n",
       "      <td>2.791208e+06</td>\n",
       "      <td>2.807100e+06</td>\n",
       "    </tr>\n",
       "    <tr>\n",
       "      <th>07</th>\n",
       "      <td>16072.0</td>\n",
       "      <td>2.632540e+06</td>\n",
       "      <td>2.647776e+06</td>\n",
       "    </tr>\n",
       "    <tr>\n",
       "      <th>06</th>\n",
       "      <td>15253.0</td>\n",
       "      <td>2.562026e+06</td>\n",
       "      <td>2.577802e+06</td>\n",
       "    </tr>\n",
       "    <tr>\n",
       "      <th>08</th>\n",
       "      <td>13448.0</td>\n",
       "      <td>2.230345e+06</td>\n",
       "      <td>2.244468e+06</td>\n",
       "    </tr>\n",
       "    <tr>\n",
       "      <th>02</th>\n",
       "      <td>13449.0</td>\n",
       "      <td>2.188885e+06</td>\n",
       "      <td>2.202022e+06</td>\n",
       "    </tr>\n",
       "    <tr>\n",
       "      <th>09</th>\n",
       "      <td>13109.0</td>\n",
       "      <td>2.084992e+06</td>\n",
       "      <td>2.097560e+06</td>\n",
       "    </tr>\n",
       "    <tr>\n",
       "      <th>01</th>\n",
       "      <td>10903.0</td>\n",
       "      <td>1.811768e+06</td>\n",
       "      <td>1.822257e+06</td>\n",
       "    </tr>\n",
       "  </tbody>\n",
       "</table>\n",
       "</div>"
      ],
      "text/plain": [
       "     Quantity Ordered    Price Each  Total produto\n",
       "Mês                                               \n",
       "12            28114.0  4.588415e+06   4.613443e+06\n",
       "10            22703.0  3.715555e+06   3.736727e+06\n",
       "04            20558.0  3.367671e+06   3.390670e+06\n",
       "11            19798.0  3.180601e+06   3.199603e+06\n",
       "05            18667.0  3.135125e+06   3.152607e+06\n",
       "03            17005.0  2.791208e+06   2.807100e+06\n",
       "07            16072.0  2.632540e+06   2.647776e+06\n",
       "06            15253.0  2.562026e+06   2.577802e+06\n",
       "08            13448.0  2.230345e+06   2.244468e+06\n",
       "02            13449.0  2.188885e+06   2.202022e+06\n",
       "09            13109.0  2.084992e+06   2.097560e+06\n",
       "01            10903.0  1.811768e+06   1.822257e+06"
      ]
     },
     "execution_count": 94,
     "metadata": {},
     "output_type": "execute_result"
    }
   ],
   "source": [
    "#Listamos os meses por ordem de faturamento\n",
    "\n",
    "vendas.groupby('Mês').sum().sort_values(by = 'Total produto', ascending = False)"
   ]
  },
  {
   "cell_type": "code",
   "execution_count": 95,
   "id": "37f021c1",
   "metadata": {},
   "outputs": [
    {
     "data": {
      "text/plain": [
       "Quantity Ordered    12\n",
       "Price Each          12\n",
       "Total produto       12\n",
       "dtype: object"
      ]
     },
     "execution_count": 95,
     "metadata": {},
     "output_type": "execute_result"
    }
   ],
   "source": [
    "#Podemos ver qual o mês de maior faturamento assim:\n",
    "vendas.groupby('Mês').sum().idxmax()"
   ]
  },
  {
   "cell_type": "code",
   "execution_count": 96,
   "id": "c20f5b39",
   "metadata": {},
   "outputs": [
    {
     "data": {
      "text/plain": [
       "Quantity Ordered    2.811400e+04\n",
       "Price Each          4.588415e+06\n",
       "Total produto       4.613443e+06\n",
       "dtype: float64"
      ]
     },
     "execution_count": 96,
     "metadata": {},
     "output_type": "execute_result"
    }
   ],
   "source": [
    "#Ou os valores do mês de maior faturamento:\n",
    "vendas.groupby('Mês').sum().max()"
   ]
  },
  {
   "cell_type": "code",
   "execution_count": 97,
   "id": "50a04939",
   "metadata": {
    "scrolled": true
   },
   "outputs": [
    {
     "data": {
      "image/png": "[encoded data removed]",
      "text/plain": [
       "<Figure size 432x288 with 1 Axes>"
      ]
     },
     "metadata": {
      "needs_background": "light"
     },
     "output_type": "display_data"
    }
   ],
   "source": [
    "#Podemos ver a evolução das vendas durante o ano no gráfico abaixo:\n",
    "\n",
    "venda_mes_a_mes = pd.Series(vendas.groupby('Mês').sum()['Total produto'])\n",
    "meses = range(1, 13)\n",
    "\n",
    "plt.bar(meses, venda_mes_a_mes)\n",
    "plt.xticks(meses) #Para ver todos os meses na exibição\n",
    "plt.show()"
   ]
  },
  {
   "cell_type": "markdown",
   "id": "f882f133",
   "metadata": {},
   "source": [
    "### Insight:\n",
    "#### - Com o faturamento mensal, a empresa pode se preparar para cenários e criar previsões sobre demanda, abastecimento, etc.\n",
    "#### - Além de poder direcionar melhor seus investimentos em marketing, e entender a eficiência de determinadas atitudes tomadas durante o ano\n"
   ]
  },
  {
   "cell_type": "markdown",
   "id": "3121bf3d",
   "metadata": {},
   "source": [
    "### 2. Qual cidade teve o maior volume de vendas?"
   ]
  },
  {
   "cell_type": "code",
   "execution_count": 98,
   "id": "fa36d790",
   "metadata": {},
   "outputs": [],
   "source": [
    "#Primeiro vamos criar uma lista com o split do endereço e usar isso nas colunas do dataframe\n",
    "\n",
    "endereco = vendas['Purchase Address'].str.split(',', expand = True)\n",
    "vendas['Rua'] = endereco[0]\n",
    "vendas['Cidade'] = endereco[1]\n",
    "vendas['Estado + CEP'] = endereco[2]"
   ]
  },
  {
   "cell_type": "code",
   "execution_count": 99,
   "id": "05866060",
   "metadata": {},
   "outputs": [
    {
     "data": {
      "text/html": [
       "<div>\n",
       "<style scoped>\n",
       "    .dataframe tbody tr th:only-of-type {\n",
       "        vertical-align: middle;\n",
       "    }\n",
       "\n",
       "    .dataframe tbody tr th {\n",
       "        vertical-align: top;\n",
       "    }\n",
       "\n",
       "    .dataframe thead th {\n",
       "        text-align: right;\n",
       "    }\n",
       "</style>\n",
       "<table border=\"1\" class=\"dataframe\">\n",
       "  <thead>\n",
       "    <tr style=\"text-align: right;\">\n",
       "      <th></th>\n",
       "      <th>Quantity Ordered</th>\n",
       "      <th>Price Each</th>\n",
       "      <th>Total produto</th>\n",
       "    </tr>\n",
       "    <tr>\n",
       "      <th>Cidade</th>\n",
       "      <th></th>\n",
       "      <th></th>\n",
       "      <th></th>\n",
       "    </tr>\n",
       "  </thead>\n",
       "  <tbody>\n",
       "    <tr>\n",
       "      <th>San Francisco</th>\n",
       "      <td>50239.0</td>\n",
       "      <td>8.211462e+06</td>\n",
       "      <td>8.262204e+06</td>\n",
       "    </tr>\n",
       "    <tr>\n",
       "      <th>Los Angeles</th>\n",
       "      <td>33289.0</td>\n",
       "      <td>5.421435e+06</td>\n",
       "      <td>5.452571e+06</td>\n",
       "    </tr>\n",
       "    <tr>\n",
       "      <th>New York City</th>\n",
       "      <td>27932.0</td>\n",
       "      <td>4.635371e+06</td>\n",
       "      <td>4.664317e+06</td>\n",
       "    </tr>\n",
       "    <tr>\n",
       "      <th>Boston</th>\n",
       "      <td>22528.0</td>\n",
       "      <td>3.637410e+06</td>\n",
       "      <td>3.661642e+06</td>\n",
       "    </tr>\n",
       "    <tr>\n",
       "      <th>Atlanta</th>\n",
       "      <td>16602.0</td>\n",
       "      <td>2.779908e+06</td>\n",
       "      <td>2.795499e+06</td>\n",
       "    </tr>\n",
       "    <tr>\n",
       "      <th>Dallas</th>\n",
       "      <td>16730.0</td>\n",
       "      <td>2.752628e+06</td>\n",
       "      <td>2.767975e+06</td>\n",
       "    </tr>\n",
       "    <tr>\n",
       "      <th>Seattle</th>\n",
       "      <td>16553.0</td>\n",
       "      <td>2.733296e+06</td>\n",
       "      <td>2.747755e+06</td>\n",
       "    </tr>\n",
       "    <tr>\n",
       "      <th>Portland</th>\n",
       "      <td>14053.0</td>\n",
       "      <td>2.307747e+06</td>\n",
       "      <td>2.320491e+06</td>\n",
       "    </tr>\n",
       "    <tr>\n",
       "      <th>Austin</th>\n",
       "      <td>11153.0</td>\n",
       "      <td>1.809874e+06</td>\n",
       "      <td>1.819582e+06</td>\n",
       "    </tr>\n",
       "  </tbody>\n",
       "</table>\n",
       "</div>"
      ],
      "text/plain": [
       "                Quantity Ordered    Price Each  Total produto\n",
       "Cidade                                                       \n",
       " San Francisco           50239.0  8.211462e+06   8.262204e+06\n",
       " Los Angeles             33289.0  5.421435e+06   5.452571e+06\n",
       " New York City           27932.0  4.635371e+06   4.664317e+06\n",
       " Boston                  22528.0  3.637410e+06   3.661642e+06\n",
       " Atlanta                 16602.0  2.779908e+06   2.795499e+06\n",
       " Dallas                  16730.0  2.752628e+06   2.767975e+06\n",
       " Seattle                 16553.0  2.733296e+06   2.747755e+06\n",
       " Portland                14053.0  2.307747e+06   2.320491e+06\n",
       " Austin                  11153.0  1.809874e+06   1.819582e+06"
      ]
     },
     "execution_count": 99,
     "metadata": {},
     "output_type": "execute_result"
    }
   ],
   "source": [
    "#Agora sim vamos olhar as cidades com maior faturamento\n",
    "\n",
    "venda_cidade = pd.DataFrame(vendas.groupby('Cidade').sum().sort_values(by = 'Total produto', ascending = False))\n",
    "cidade = venda_cidade.index\n",
    "venda_cidade"
   ]
  },
  {
   "cell_type": "code",
   "execution_count": 100,
   "id": "f16b5e04",
   "metadata": {},
   "outputs": [
    {
     "data": {
      "image/png": "[encoded data removed]",
      "text/plain": [
       "<Figure size 432x288 with 1 Axes>"
      ]
     },
     "metadata": {
      "needs_background": "light"
     },
     "output_type": "display_data"
    }
   ],
   "source": [
    "plt.bar(cidade, venda_cidade['Total produto'])\n",
    "plt.xticks(cidade, rotation = 'vertical')\n",
    "plt.ylabel('Vendas U$D')\n",
    "plt.show()"
   ]
  },
  {
   "cell_type": "markdown",
   "id": "cfe9cb28",
   "metadata": {},
   "source": [
    "### Insight:\n",
    "####  - Em posse do faturamento por cidade, a empresa pode entender sua relevância no mercado e pulverização de suas ações de marketing, podendo direcionar seus esforços para cidades estratégicas ou buscando aumentar sua relevância em cidades de menor faturamento\n"
   ]
  },
  {
   "cell_type": "markdown",
   "id": "baf10958",
   "metadata": {},
   "source": [
    "### 3. Qual o horário de maior volume de vendas?"
   ]
  },
  {
   "cell_type": "code",
   "execution_count": 101,
   "id": "faa95e4a",
   "metadata": {},
   "outputs": [],
   "source": [
    "#Nosso dataframe possui o horário que as compras foram realizadas. Vamos tirar alguns insights disso\n",
    "\n",
    "vendas['Hora'] = pd.to_datetime(vendas['Order Date']).dt.hour #Criamos uma coluna com o horário da venda"
   ]
  },
  {
   "cell_type": "code",
   "execution_count": 102,
   "id": "475fa117",
   "metadata": {},
   "outputs": [],
   "source": [
    "vendas_hora = pd.DataFrame(vendas['Hora'].value_counts()) #Esta variável calcula as vendas por hora\n",
    "vendas_hora = vendas_hora.sort_index()\n",
    "horas = range(0,25)"
   ]
  },
  {
   "cell_type": "code",
   "execution_count": 104,
   "id": "5057fd1c",
   "metadata": {},
   "outputs": [
    {
     "data": {
      "image/png": "[encoded data removed]",
      "text/plain": [
       "<Figure size 432x288 with 1 Axes>"
      ]
     },
     "metadata": {
      "needs_background": "light"
     },
     "output_type": "display_data"
    }
   ],
   "source": [
    "vendas_hora.plot()\n",
    "plt.xticks(horas)\n",
    "plt.grid()\n",
    "plt.show()\n"
   ]
  },
  {
   "cell_type": "markdown",
   "id": "5e17f2f5",
   "metadata": {},
   "source": [
    "### Insight:\n",
    "####  - Há dois picos nas vendas da empresa. A organização pode usar essa informação para escolher os horários de anúncios em sites e redes sociais.\n",
    "####  - Durante a madrugada a empresa possui níveis de vendas muito baixos, então a empresa pode usar isso para direcionar vendas e promoções rápidas para atrair novos clientes\n"
   ]
  }
 ],
 "metadata": {
  "kernelspec": {
   "display_name": "Python 3",
   "language": "python",
   "name": "python3"
  },
  "language_info": {
   "codemirror_mode": {
    "name": "ipython",
    "version": 3
   },
   "file_extension": ".py",
   "mimetype": "text/x-python",
   "name": "python",
   "nbconvert_exporter": "python",
   "pygments_lexer": "ipython3",
   "version": "3.8.8"
  }
 },
 "nbformat": 4,
 "nbformat_minor": 5
}
